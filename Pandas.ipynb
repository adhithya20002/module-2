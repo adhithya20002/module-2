{
 "cells": [
  {
   "cell_type": "code",
   "execution_count": 2,
   "id": "c5203c97-cb35-406d-9a13-1d98b4bf6b1b",
   "metadata": {},
   "outputs": [
    {
     "name": "stdout",
     "output_type": "stream",
     "text": [
      "Requirement already satisfied: pandas in c:\\users\\ss\\anaconda3\\lib\\site-packages (1.5.3)\n",
      "Requirement already satisfied: python-dateutil>=2.8.1 in c:\\users\\ss\\anaconda3\\lib\\site-packages (from pandas) (2.8.2)\n",
      "Requirement already satisfied: pytz>=2020.1 in c:\\users\\ss\\anaconda3\\lib\\site-packages (from pandas) (2022.7)\n",
      "Requirement already satisfied: numpy>=1.21.0 in c:\\users\\ss\\anaconda3\\lib\\site-packages (from pandas) (1.24.3)\n",
      "Requirement already satisfied: six>=1.5 in c:\\users\\ss\\anaconda3\\lib\\site-packages (from python-dateutil>=2.8.1->pandas) (1.16.0)\n",
      "Note: you may need to restart the kernel to use updated packages.\n"
     ]
    }
   ],
   "source": [
    "pip install pandas"
   ]
  },
  {
   "cell_type": "markdown",
   "id": "3829f95b-3499-4f03-b08d-4c076310f27a",
   "metadata": {},
   "source": [
    "# Series"
   ]
  },
  {
   "cell_type": "code",
   "execution_count": 9,
   "id": "e264d1b7-0e16-4aae-8b74-163efb2219d1",
   "metadata": {},
   "outputs": [
    {
     "name": "stdout",
     "output_type": "stream",
     "text": [
      "0    1\n",
      "1    7\n",
      "2    2\n",
      "dtype: int64\n"
     ]
    }
   ],
   "source": [
    "import pandas as pd\n",
    "a=[1,7,2]\n",
    "myvar=pd.Series(a)\n",
    "print(myvar)"
   ]
  },
  {
   "cell_type": "code",
   "execution_count": 16,
   "id": "0b1bbd91-9594-4534-b8e9-69acf5cf975b",
   "metadata": {},
   "outputs": [
    {
     "name": "stdout",
     "output_type": "stream",
     "text": [
      "x    1\n",
      "y    7\n",
      "z    8\n",
      "dtype: int64\n"
     ]
    }
   ],
   "source": [
    "import pandas as pd\n",
    "a=[1,7,8]\n",
    "myvar=pd.Series(a,index=[\"x\",\"y\",\"z\"])\n",
    "print(myvar)"
   ]
  },
  {
   "cell_type": "code",
   "execution_count": 20,
   "id": "b9f022a4-90d3-4889-a3f9-e925c0dfd670",
   "metadata": {},
   "outputs": [
    {
     "name": "stdout",
     "output_type": "stream",
     "text": [
      "day 1    420\n",
      "day 2    380\n",
      "day 3    390\n",
      "dtype: int64\n"
     ]
    }
   ],
   "source": [
    "import pandas as pd\n",
    "calories={\"day 1\":420,\"day 2\":380,\"day 3\":390}\n",
    "myvar=pd.Series(calories)\n",
    "print(myvar)"
   ]
  },
  {
   "cell_type": "code",
   "execution_count": 24,
   "id": "04790eea-f2a8-47fc-80ec-1d6c6d4763ab",
   "metadata": {},
   "outputs": [
    {
     "name": "stdout",
     "output_type": "stream",
     "text": [
      "day 1    420\n",
      "day 3    390\n",
      "dtype: int64\n"
     ]
    }
   ],
   "source": [
    "import pandas as pd\n",
    "calories={\"day 1\":420,\"day 2\":380,\"day 3\":390}\n",
    "myvar=pd.Series(calories,index=[\"day 1\",\"day 3\"])\n",
    "print(myvar)"
   ]
  },
  {
   "cell_type": "code",
   "execution_count": null,
   "id": "8d243a8a-f599-43bf-87cd-0fb3140d1533",
   "metadata": {},
   "outputs": [],
   "source": []
  },
  {
   "cell_type": "markdown",
   "id": "5cccd964-ee59-4bc3-80b6-da3be2c855c9",
   "metadata": {},
   "source": [
    "# DataFrames"
   ]
  },
  {
   "cell_type": "code",
   "execution_count": 38,
   "id": "a49bbc7f-5c55-4afc-960c-83ed7eac04e7",
   "metadata": {},
   "outputs": [
    {
     "name": "stdout",
     "output_type": "stream",
     "text": [
      "    calories  duration\n",
      "0        420        50\n",
      "1        380        40\n",
      "2        390        45\n",
      "3        220        40\n",
      "4        540        32\n",
      "5        250        25\n",
      "6        850        85\n",
      "7        360        65\n",
      "8        520        25\n",
      "9        123        12\n",
      "10       425        15\n",
      "11        20        25\n",
      "12       258        32\n",
      "13       202        33\n"
     ]
    }
   ],
   "source": [
    "import pandas as pd\n",
    "data={\n",
    "    \"calories\":[420,380,390,220,540,250,850,360,520,123,425,20,258,202],\n",
    "    \"duration\":[50,40,45,40,32,25,85,65,25,12,15,25,32,33]\n",
    "}\n",
    "df=pd.DataFrame(data)\n",
    "print(df)"
   ]
  },
  {
   "cell_type": "code",
   "execution_count": 40,
   "id": "94c9bd76-a30f-4589-ade9-41ba218bf85e",
   "metadata": {},
   "outputs": [
    {
     "data": {
      "text/html": [
       "<div>\n",
       "<style scoped>\n",
       "    .dataframe tbody tr th:only-of-type {\n",
       "        vertical-align: middle;\n",
       "    }\n",
       "\n",
       "    .dataframe tbody tr th {\n",
       "        vertical-align: top;\n",
       "    }\n",
       "\n",
       "    .dataframe thead th {\n",
       "        text-align: right;\n",
       "    }\n",
       "</style>\n",
       "<table border=\"1\" class=\"dataframe\">\n",
       "  <thead>\n",
       "    <tr style=\"text-align: right;\">\n",
       "      <th></th>\n",
       "      <th>calories</th>\n",
       "      <th>duration</th>\n",
       "    </tr>\n",
       "  </thead>\n",
       "  <tbody>\n",
       "    <tr>\n",
       "      <th>0</th>\n",
       "      <td>420</td>\n",
       "      <td>50</td>\n",
       "    </tr>\n",
       "    <tr>\n",
       "      <th>1</th>\n",
       "      <td>380</td>\n",
       "      <td>40</td>\n",
       "    </tr>\n",
       "    <tr>\n",
       "      <th>2</th>\n",
       "      <td>390</td>\n",
       "      <td>45</td>\n",
       "    </tr>\n",
       "    <tr>\n",
       "      <th>3</th>\n",
       "      <td>220</td>\n",
       "      <td>40</td>\n",
       "    </tr>\n",
       "    <tr>\n",
       "      <th>4</th>\n",
       "      <td>540</td>\n",
       "      <td>32</td>\n",
       "    </tr>\n",
       "  </tbody>\n",
       "</table>\n",
       "</div>"
      ],
      "text/plain": [
       "   calories  duration\n",
       "0       420        50\n",
       "1       380        40\n",
       "2       390        45\n",
       "3       220        40\n",
       "4       540        32"
      ]
     },
     "execution_count": 40,
     "metadata": {},
     "output_type": "execute_result"
    }
   ],
   "source": [
    "df.head()"
   ]
  },
  {
   "cell_type": "code",
   "execution_count": 42,
   "id": "4f356958-f49a-41e3-99aa-2fec25ef5a32",
   "metadata": {},
   "outputs": [
    {
     "data": {
      "text/plain": [
       "Index(['calories', 'duration'], dtype='object')"
      ]
     },
     "execution_count": 42,
     "metadata": {},
     "output_type": "execute_result"
    }
   ],
   "source": [
    "df.columns"
   ]
  },
  {
   "cell_type": "code",
   "execution_count": 44,
   "id": "1e58ed99-c8f6-4901-9cc2-51a209006c57",
   "metadata": {},
   "outputs": [
    {
     "name": "stdout",
     "output_type": "stream",
     "text": [
      "0     420\n",
      "1     380\n",
      "2     390\n",
      "3     220\n",
      "4     540\n",
      "5     250\n",
      "6     850\n",
      "7     360\n",
      "8     520\n",
      "9     123\n",
      "10    425\n",
      "11     20\n",
      "12    258\n",
      "13    202\n",
      "Name: calories, dtype: int64\n"
     ]
    }
   ],
   "source": [
    "print(df[\"calories\"])"
   ]
  },
  {
   "cell_type": "code",
   "execution_count": 48,
   "id": "39e23b52-dafa-4083-9534-629d538d559f",
   "metadata": {},
   "outputs": [
    {
     "name": "stdout",
     "output_type": "stream",
     "text": [
      "    calories  duration\n",
      "0        420        50\n",
      "1        380        40\n",
      "2        390        45\n",
      "3        220        40\n",
      "4        540        32\n",
      "5        250        25\n",
      "6        850        85\n",
      "7        360        65\n",
      "8        520        25\n",
      "9        123        12\n",
      "10       425        15\n",
      "11        20        25\n",
      "12       258        32\n",
      "13       202        33\n"
     ]
    }
   ],
   "source": [
    "print(df[[\"calories\",\"duration\"]])"
   ]
  },
  {
   "cell_type": "code",
   "execution_count": 52,
   "id": "a8bb1b19-3c14-4e7d-bf67-d04e7cf3ae51",
   "metadata": {},
   "outputs": [],
   "source": [
    "df[\"weight\"]=[75,55,75,55,42,43,45,45,47,49,55,58,92,98]"
   ]
  },
  {
   "cell_type": "code",
   "execution_count": 54,
   "id": "cb4c9284-04c4-447d-bb87-1fd0e8d6829b",
   "metadata": {},
   "outputs": [
    {
     "data": {
      "text/plain": [
       "Index(['calories', 'duration', 'weight'], dtype='object')"
      ]
     },
     "execution_count": 54,
     "metadata": {},
     "output_type": "execute_result"
    }
   ],
   "source": [
    "df.columns"
   ]
  },
  {
   "cell_type": "code",
   "execution_count": 56,
   "id": "44c71257-9400-4b94-8a2b-8c86795efd55",
   "metadata": {},
   "outputs": [],
   "source": [
    "df=df.drop(\"duration\",axis=1)"
   ]
  },
  {
   "cell_type": "code",
   "execution_count": 58,
   "id": "3fd9ab64-c17a-40ed-871a-4ea2c34c16c4",
   "metadata": {},
   "outputs": [
    {
     "data": {
      "text/plain": [
       "Index(['calories', 'weight'], dtype='object')"
      ]
     },
     "execution_count": 58,
     "metadata": {},
     "output_type": "execute_result"
    }
   ],
   "source": [
    "df.columns"
   ]
  },
  {
   "cell_type": "markdown",
   "id": "35a98932-cf76-42c6-9d1a-cf7e12addfaf",
   "metadata": {},
   "source": [
    "## Pipe"
   ]
  },
  {
   "cell_type": "code",
   "execution_count": 6,
   "id": "5db038e3-a84c-47d6-b0f1-ebbf3af8db55",
   "metadata": {},
   "outputs": [
    {
     "name": "stdout",
     "output_type": "stream",
     "text": [
      "    A   B\n",
      "0   4  25\n",
      "1   9  36\n",
      "2  16  49\n"
     ]
    }
   ],
   "source": [
    "import pandas as pd\n",
    "df=pd.DataFrame({\n",
    "    'A':[1,2,3],\n",
    "    'B':[4,5,6]\n",
    "})\n",
    "def add_one(x):\n",
    "    return x+1\n",
    "def square(x):\n",
    "    return x**2\n",
    "df2=df.pipe(add_one).pipe(square)\n",
    "print(df2)"
   ]
  },
  {
   "cell_type": "markdown",
   "id": "d7329e64-fdf9-4157-9700-5f759ba63b9a",
   "metadata": {},
   "source": [
    "## apply"
   ]
  },
  {
   "cell_type": "code",
   "execution_count": 11,
   "id": "46df9003-bcc5-4b59-bf1d-bae651e05405",
   "metadata": {},
   "outputs": [
    {
     "name": "stdout",
     "output_type": "stream",
     "text": [
      "A     6\n",
      "B    60\n",
      "dtype: int64\n",
      "0    11\n",
      "1    22\n",
      "2    33\n",
      "dtype: int64\n"
     ]
    }
   ],
   "source": [
    "df=pd.DataFrame({\n",
    "    'A':[1,2,3],\n",
    "    'B':[10,20,30]\n",
    "})\n",
    "print(df.apply(sum,axis=0))\n",
    "print(df.apply(lambda row:row['A']+row['B'],axis=1))"
   ]
  },
  {
   "cell_type": "markdown",
   "id": "708e4d4c-d929-4874-9f9b-8939e9d73626",
   "metadata": {},
   "source": [
    "## Apply map"
   ]
  },
  {
   "cell_type": "code",
   "execution_count": 15,
   "id": "f18184d6-18f0-4bc9-967d-e1af37cf5fbc",
   "metadata": {
    "scrolled": true
   },
   "outputs": [
    {
     "name": "stdout",
     "output_type": "stream",
     "text": [
      "   A   B\n",
      "0  2  20\n",
      "1  4  40\n",
      "2  6  60\n"
     ]
    }
   ],
   "source": [
    "df=pd.DataFrame({\n",
    "    'A':[1,2,3],\n",
    "    'B':[10,20,30]\n",
    "})\n",
    "print(df.applymap(lambda x:x*2))"
   ]
  },
  {
   "cell_type": "markdown",
   "id": "a65e00ad-d305-4072-8163-8bd64fe93aaf",
   "metadata": {},
   "source": [
    "# Pivot"
   ]
  },
  {
   "cell_type": "code",
   "execution_count": 20,
   "id": "b0cb30bd-6a2d-41eb-acca-7f3949e16b95",
   "metadata": {},
   "outputs": [
    {
     "name": "stdout",
     "output_type": "stream",
     "text": [
      "Subject  Math  Science\n",
      "Name                  \n",
      "A          85       90\n",
      "B          78       88\n"
     ]
    }
   ],
   "source": [
    "import pandas as pd\n",
    "data={\n",
    "    'Name':['A','A','B','B'],\n",
    "    'Subject':['Math','Science','Math','Science'],\n",
    "    'Score':[85,90,78,88]\n",
    "}\n",
    "df=pd.DataFrame(data)\n",
    "pivot_df=df.pivot(index='Name',columns='Subject',values='Score')\n",
    "print(pivot_df)"
   ]
  },
  {
   "cell_type": "markdown",
   "id": "15dc7d2c-7841-453e-ab91-40c45644a15f",
   "metadata": {},
   "source": [
    "## Crosstab"
   ]
  },
  {
   "cell_type": "code",
   "execution_count": 23,
   "id": "af214aa8-9d5c-4a3b-a33e-468da29561ba",
   "metadata": {},
   "outputs": [
    {
     "name": "stdout",
     "output_type": "stream",
     "text": [
      "Subject  Math  Science\n",
      "Name                  \n",
      "A           1        1\n",
      "B           1        1\n",
      "c           1        0\n"
     ]
    }
   ],
   "source": [
    "data={\n",
    "    'Name':['A','A','B','B','c'],\n",
    "    'Subject':['Math','Science','Math','Science','Math']}\n",
    "df=pd.DataFrame(data)\n",
    "crosstab_df=pd.crosstab(df['Name'],df['Subject'])\n",
    "print(crosstab_df)"
   ]
  },
  {
   "cell_type": "code",
   "execution_count": null,
   "id": "af0ca788-d842-44e1-b728-3a8d76ed23af",
   "metadata": {},
   "outputs": [],
   "source": []
  },
  {
   "cell_type": "code",
   "execution_count": null,
   "id": "cd9634db-87b3-449a-9235-fc998d7e09d7",
   "metadata": {},
   "outputs": [],
   "source": []
  },
  {
   "cell_type": "code",
   "execution_count": null,
   "id": "5a4b14cb-a642-4ee2-9e13-2289afc9b0fd",
   "metadata": {},
   "outputs": [],
   "source": []
  }
 ],
 "metadata": {
  "kernelspec": {
   "display_name": "Python [conda env:base] *",
   "language": "python",
   "name": "conda-base-py"
  },
  "language_info": {
   "codemirror_mode": {
    "name": "ipython",
    "version": 3
   },
   "file_extension": ".py",
   "mimetype": "text/x-python",
   "name": "python",
   "nbconvert_exporter": "python",
   "pygments_lexer": "ipython3",
   "version": "3.11.4"
  }
 },
 "nbformat": 4,
 "nbformat_minor": 5
}
