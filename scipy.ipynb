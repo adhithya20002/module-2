{
 "cells": [
  {
   "cell_type": "code",
   "execution_count": 2,
   "id": "de59496e-0aa0-4d40-8e50-dad21d76e0b8",
   "metadata": {},
   "outputs": [
    {
     "name": "stdout",
     "output_type": "stream",
     "text": [
      "0.001\n"
     ]
    }
   ],
   "source": [
    "from scipy import constants\n",
    "print(constants.liter)"
   ]
  },
  {
   "cell_type": "code",
   "execution_count": 4,
   "id": "cb196d72-d7ed-4b65-90d6-1bc63fc492ab",
   "metadata": {},
   "outputs": [
    {
     "name": "stdout",
     "output_type": "stream",
     "text": [
      "3.141592653589793\n"
     ]
    }
   ],
   "source": [
    "print(constants.pi)"
   ]
  },
  {
   "cell_type": "code",
   "execution_count": 12,
   "id": "a74d1d2e-7a25-41ec-89d7-5f51c5a9abfd",
   "metadata": {},
   "outputs": [
    {
     "name": "stdout",
     "output_type": "stream",
     "text": [
      "60.0\n",
      "3600.0\n",
      "31536000.0\n",
      "86400.0\n",
      "604800.0\n"
     ]
    }
   ],
   "source": [
    "print(constants.minute)\n",
    "print(constants.hour)\n",
    "print(constants.year)\n",
    "print(constants.day)\n",
    "print(constants.week)"
   ]
  },
  {
   "cell_type": "code",
   "execution_count": 16,
   "id": "30ed497a-4563-4488-9ca4-9fb4a8a673f4",
   "metadata": {},
   "outputs": [
    {
     "name": "stdout",
     "output_type": "stream",
     "text": [
      "0.0254\n",
      "0.30479999999999996\n",
      "1609.3439999999998\n",
      "0.9143999999999999\n",
      "101325.0\n",
      "101325.0\n",
      "100000.0\n",
      "133.32236842105263\n",
      "10000.0\n",
      "4046.8564223999992\n",
      "0.001\n",
      "0.001\n",
      "273.15\n",
      "0.5555555555555556\n"
     ]
    }
   ],
   "source": [
    "print(constants.inch)\n",
    "print(constants.foot)\n",
    "print(constants.mile)\n",
    "print(constants.yard)\n",
    "print(constants.atm)\n",
    "print(constants.atmosphere)\n",
    "print(constants.bar)\n",
    "print(constants.torr)\n",
    "print(constants.hectare)\n",
    "print(constants.acre)\n",
    "print(constants.liter)\n",
    "print(constants.litre)\n",
    "print(constants.zero_Celsius)\n",
    "print(constants.degree_Fahrenheit)"
   ]
  },
  {
   "cell_type": "markdown",
   "id": "f3477e54-2382-4431-aec7-497739a45f6a",
   "metadata": {},
   "source": [
    "# Find the root of a non linear eqn"
   ]
  },
  {
   "cell_type": "code",
   "execution_count": 20,
   "id": "227ff424-414a-4170-b9b8-09ca692c5d9c",
   "metadata": {},
   "outputs": [
    {
     "name": "stdout",
     "output_type": "stream",
     "text": [
      "[-0.73908513]\n"
     ]
    }
   ],
   "source": [
    "from scipy.optimize import root\n",
    "import numpy as np\n",
    "def eqn(x):\n",
    "    return x+np.cos(x)\n",
    "myroot=root(eqn,0)\n",
    "print(myroot.x)"
   ]
  },
  {
   "cell_type": "markdown",
   "id": "e1986f8c-77d2-4d3d-9f5a-85c7f7910f71",
   "metadata": {},
   "source": [
    "# Minimizing"
   ]
  },
  {
   "cell_type": "code",
   "execution_count": 24,
   "id": "00e9ca9e-6835-4424-84be-3835fe335934",
   "metadata": {},
   "outputs": [
    {
     "name": "stdout",
     "output_type": "stream",
     "text": [
      "  message: Optimization terminated successfully.\n",
      "  success: True\n",
      "   status: 0\n",
      "      fun: -745579465.9300001\n",
      "        x: [-2.485e+08]\n",
      "      nit: 2\n",
      "      jac: [ 0.000e+00]\n",
      " hess_inv: [[ 2.259e+07]]\n",
      "     nfev: 32\n",
      "     njev: 16\n"
     ]
    }
   ],
   "source": [
    "from scipy.optimize import minimize\n",
    "def eqn(x):\n",
    "    return x*2+x+2\n",
    "mymin=minimize(eqn,0,method=\"BFGS\")\n",
    "print(mymin)"
   ]
  },
  {
   "cell_type": "markdown",
   "id": "f1d436d0-b932-443b-8cd4-3a4033f22b40",
   "metadata": {},
   "source": [
    "# Scipy stat module"
   ]
  },
  {
   "cell_type": "code",
   "execution_count": 27,
   "id": "3c4253ff-11b3-4de9-aa28-f528071676dc",
   "metadata": {},
   "outputs": [
    {
     "name": "stdout",
     "output_type": "stream",
     "text": [
      "DescribeResult(nobs=6, minmax=(1, 5), mean=2.8333333333333335, variance=2.1666666666666665, skewness=0.3053162697580513, kurtosis=-1.1517159763313607)\n"
     ]
    }
   ],
   "source": [
    "from scipy import stats\n",
    "data=[1,2,2,3,4,5]\n",
    "summary=stats.describe(data)\n",
    "print(summary)"
   ]
  },
  {
   "cell_type": "markdown",
   "id": "2cf17a9c-707b-4936-8e6f-c93fc7de8ea3",
   "metadata": {},
   "source": [
    "## Integration"
   ]
  },
  {
   "cell_type": "code",
   "execution_count": 30,
   "id": "f1e3d6eb-4989-4618-b5e0-777934277060",
   "metadata": {},
   "outputs": [
    {
     "name": "stdout",
     "output_type": "stream",
     "text": [
      "Integration Result 2.0\n",
      "Estimated error 2.220446049250313e-14\n"
     ]
    }
   ],
   "source": [
    "import numpy as np\n",
    "from scipy import integrate\n",
    "result,error=integrate.quad(np.sin,0,np.pi)\n",
    "print(\"Integration Result\",result)\n",
    "print(\"Estimated error\",error)"
   ]
  },
  {
   "cell_type": "markdown",
   "id": "bc570263-942b-49ee-8d05-2d98b35b072f",
   "metadata": {},
   "source": [
    "## Double integration"
   ]
  },
  {
   "cell_type": "code",
   "execution_count": 35,
   "id": "17fd655a-7311-4276-8d21-02cd5a2eb3f2",
   "metadata": {},
   "outputs": [
    {
     "name": "stdout",
     "output_type": "stream",
     "text": [
      "Double integration Result 0.9999999999999999\n"
     ]
    }
   ],
   "source": [
    "import numpy as np\n",
    "from scipy import integrate\n",
    "result,error=integrate.dblquad(lambda y,x:x*y,0,1,lambda x:0,lambda x:2)\n",
    "print(\"Double integration Result\",result)"
   ]
  },
  {
   "cell_type": "markdown",
   "id": "ed8ef47d-9c3c-4bb6-8d7f-790159bc931b",
   "metadata": {},
   "source": [
    "# Hypothesis testing"
   ]
  },
  {
   "cell_type": "markdown",
   "id": "833896ec-72d0-4266-aecf-e2992fdfed4f",
   "metadata": {},
   "source": [
    "#### t test"
   ]
  },
  {
   "cell_type": "code",
   "execution_count": 40,
   "id": "b648a90a-7a7b-4961-94ba-a3f54344d39e",
   "metadata": {},
   "outputs": [
    {
     "name": "stdout",
     "output_type": "stream",
     "text": [
      "t-statistic 16.269345063186986 p-value 8.352394971200319e-05\n"
     ]
    }
   ],
   "source": [
    "sample=[2.3,1.9,2.5,2.8,2.4]\n",
    "t_stat,p_val=stats.ttest_1samp(sample,0)\n",
    "print(\"t-statistic\",t_stat,\"p-value\",p_val)"
   ]
  },
  {
   "cell_type": "markdown",
   "id": "041c974f-60fa-4fc0-9abe-e513428b08cd",
   "metadata": {},
   "source": [
    "## 2 Sample t test"
   ]
  },
  {
   "cell_type": "code",
   "execution_count": 45,
   "id": "f2d1a934-f2f3-4da6-9a3f-492e683b0544",
   "metadata": {},
   "outputs": [
    {
     "name": "stdout",
     "output_type": "stream",
     "text": [
      "t-statistic -3.227137185558497 p-value 0.012108856765547137\n"
     ]
    }
   ],
   "source": [
    "from scipy import stats\n",
    "group1=[20,22,23,25,30]\n",
    "group2=[28,29,30,32,35]\n",
    "t_stat,p_val=stats.ttest_ind(group1,group2)\n",
    "print(\"t-statistic\",t_stat,\"p-value\",p_val)"
   ]
  },
  {
   "cell_type": "markdown",
   "id": "373f4ee1-6d50-41d0-9463-d9233bfe64f6",
   "metadata": {},
   "source": [
    "## z test"
   ]
  },
  {
   "cell_type": "code",
   "execution_count": 52,
   "id": "84ad1795-377c-402d-ae5a-8323ef8de9fe",
   "metadata": {},
   "outputs": [
    {
     "name": "stdout",
     "output_type": "stream",
     "text": [
      "Mean of scores: 0.8379305815963922\n",
      "p_value 0.4020696920382725\n"
     ]
    }
   ],
   "source": [
    "import numpy as np\n",
    "from statsmodels.stats.weightstats import ztest\n",
    "scores=np.array([52,49,50,51,53,47,48,54,50,52,49,51])\n",
    "z_stat,p_val=ztest(scores,value=50)\n",
    "print(\"Mean of scores:\",z_stat)\n",
    "print(\"p_value\",p_val)"
   ]
  },
  {
   "cell_type": "code",
   "execution_count": null,
   "id": "a71044d9-bf28-433e-a05e-e878e503ac02",
   "metadata": {},
   "outputs": [],
   "source": []
  }
 ],
 "metadata": {
  "kernelspec": {
   "display_name": "Python [conda env:base] *",
   "language": "python",
   "name": "conda-base-py"
  },
  "language_info": {
   "codemirror_mode": {
    "name": "ipython",
    "version": 3
   },
   "file_extension": ".py",
   "mimetype": "text/x-python",
   "name": "python",
   "nbconvert_exporter": "python",
   "pygments_lexer": "ipython3",
   "version": "3.11.4"
  }
 },
 "nbformat": 4,
 "nbformat_minor": 5
}
