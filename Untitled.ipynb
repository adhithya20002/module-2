{
 "cells": [
  {
   "cell_type": "code",
   "execution_count": 1,
   "id": "f3e12f8c-b092-424a-8b74-9ae671b4eb07",
   "metadata": {},
   "outputs": [
    {
     "name": "stdout",
     "output_type": "stream",
     "text": [
      "Accuracy: 0.5\n",
      "AI Job Assistant: Hello! Ask me about jobs, skills, or resume advice. Type 'exit' to quit.\n"
     ]
    },
    {
     "name": "stdin",
     "output_type": "stream",
     "text": [
      "You:  which job suit my skills\n"
     ]
    },
    {
     "name": "stdout",
     "output_type": "stream",
     "text": [
      "AI Job Assistant: I can suggest jobs based on your skills and experience. Please provide details.\n"
     ]
    },
    {
     "name": "stdin",
     "output_type": "stream",
     "text": [
      "You:  fresher, Data science , ML\n"
     ]
    },
    {
     "name": "stdout",
     "output_type": "stream",
     "text": [
      "AI Job Assistant: You can explore these roles on job portals or company websites. Do you want more info?\n"
     ]
    },
    {
     "name": "stdin",
     "output_type": "stream",
     "text": [
      "You:  yes\n"
     ]
    },
    {
     "name": "stdout",
     "output_type": "stream",
     "text": [
      "AI Job Assistant: You can explore these roles on job portals or company websites. Do you want more info?\n"
     ]
    },
    {
     "name": "stdin",
     "output_type": "stream",
     "text": [
      "You:  yes i want more info\n"
     ]
    },
    {
     "name": "stdout",
     "output_type": "stream",
     "text": [
      "AI Job Assistant: You can explore these roles on job portals or company websites. Do you want more info?\n"
     ]
    },
    {
     "name": "stdin",
     "output_type": "stream",
     "text": [
      "You:  exit\n"
     ]
    },
    {
     "name": "stdout",
     "output_type": "stream",
     "text": [
      "AI Job Assistant: Goodbye!\n"
     ]
    }
   ],
   "source": [
    "# Import Libraries\n",
    "import pandas as pd\n",
    "from sklearn.feature_extraction.text import TfidfVectorizer\n",
    "from sklearn.naive_bayes import MultinomialNB\n",
    "from sklearn.pipeline import Pipeline\n",
    "from sklearn.model_selection import train_test_split\n",
    "from sklearn.metrics import accuracy_score\n",
    "\n",
    "# Sample Dataset (Question - Intent)\n",
    "data = {\n",
    "    \"query\": [\n",
    "        \"Which jobs suit my skills?\",\n",
    "        \"Tell me about software developer roles\",\n",
    "        \"How can I improve my resume?\",\n",
    "        \"What are the qualifications for data analyst?\",\n",
    "        \"Suggest IT jobs for freshers\",\n",
    "        \"How do I prepare for an interview?\",\n",
    "        \"Best companies hiring now?\",\n",
    "        \"What skills are required for project manager?\"\n",
    "    ],\n",
    "    \"intent\": [\n",
    "        \"job_recommendation\",\n",
    "        \"job_info\",\n",
    "        \"resume_advice\",\n",
    "        \"job_info\",\n",
    "        \"job_recommendation\",\n",
    "        \"interview_tips\",\n",
    "        \"job_info\",\n",
    "        \"skills_required\"\n",
    "    ]\n",
    "}\n",
    "\n",
    "df = pd.DataFrame(data)\n",
    "\n",
    "# Split dataset\n",
    "X_train, X_test, y_train, y_test = train_test_split(df['query'], df['intent'], test_size=0.2, random_state=42)\n",
    "\n",
    "# Build Pipeline (TF-IDF + Naive Bayes)\n",
    "model = Pipeline([\n",
    "    ('tfidf', TfidfVectorizer()),\n",
    "    ('clf', MultinomialNB())\n",
    "])\n",
    "\n",
    "# Train model\n",
    "model.fit(X_train, y_train)\n",
    "\n",
    "# Test accuracy\n",
    "y_pred = model.predict(X_test)\n",
    "print(\"Accuracy:\", accuracy_score(y_test, y_pred))\n",
    "\n",
    "# Chatbot Interaction\n",
    "def chatbot():\n",
    "    print(\"AI Job Assistant: Hello! Ask me about jobs, skills, or resume advice. Type 'exit' to quit.\")\n",
    "    while True:\n",
    "        user_input = input(\"You: \")\n",
    "        if user_input.lower() == 'exit':\n",
    "            print(\"AI Job Assistant: Goodbye!\")\n",
    "            break\n",
    "        prediction = model.predict([user_input])[0]\n",
    "        \n",
    "        # Predefined responses\n",
    "        responses = {\n",
    "            \"job_recommendation\": \"I can suggest jobs based on your skills and experience. Please provide details.\",\n",
    "            \"job_info\": \"You can explore these roles on job portals or company websites. Do you want more info?\",\n",
    "            \"resume_advice\": \"Make sure your resume highlights your skills, experience, and achievements clearly.\",\n",
    "            \"interview_tips\": \"Practice common interview questions and research the company before your interview.\",\n",
    "            \"skills_required\": \"Skills depend on the role, but generally include domain knowledge and technical proficiency.\"\n",
    "        }\n",
    "        \n",
    "        print(\"AI Job Assistant:\", responses.get(prediction, \"Sorry, I didn't understand. Can you rephrase?\"))\n",
    "\n",
    "# Run Chatbot\n",
    "chatbot()\n"
   ]
  },
  {
   "cell_type": "code",
   "execution_count": null,
   "id": "3b0a8fa4-3fb2-45cc-9330-9fa012eb210b",
   "metadata": {},
   "outputs": [],
   "source": []
  }
 ],
 "metadata": {
  "kernelspec": {
   "display_name": "Python [conda env:base] *",
   "language": "python",
   "name": "conda-base-py"
  },
  "language_info": {
   "codemirror_mode": {
    "name": "ipython",
    "version": 3
   },
   "file_extension": ".py",
   "mimetype": "text/x-python",
   "name": "python",
   "nbconvert_exporter": "python",
   "pygments_lexer": "ipython3",
   "version": "3.11.4"
  }
 },
 "nbformat": 4,
 "nbformat_minor": 5
}
