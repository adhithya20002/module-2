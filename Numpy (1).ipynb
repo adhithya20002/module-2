{
 "cells": [
  {
   "cell_type": "code",
   "execution_count": 1,
   "id": "683d54b4-a81b-4a29-92fc-c620cc92a7df",
   "metadata": {},
   "outputs": [
    {
     "name": "stdout",
     "output_type": "stream",
     "text": [
      "Requirement already satisfied: numpy in c:\\users\\ss\\anaconda3\\lib\\site-packages (1.24.3)\n",
      "Note: you may need to restart the kernel to use updated packages.\n"
     ]
    }
   ],
   "source": [
    "pip install numpy\n"
   ]
  },
  {
   "cell_type": "markdown",
   "id": "5b093c8b-feff-493d-9288-fe4eb7fee322",
   "metadata": {},
   "source": [
    "## Zero Dimension"
   ]
  },
  {
   "cell_type": "code",
   "execution_count": 3,
   "id": "3869d1b6-7e4e-4433-b065-2d14527ca216",
   "metadata": {},
   "outputs": [
    {
     "name": "stdout",
     "output_type": "stream",
     "text": [
      "25\n",
      "<class 'numpy.ndarray'>\n",
      "0\n"
     ]
    }
   ],
   "source": [
    "import numpy as np\n",
    "arr=np.array(25)\n",
    "print(arr)\n",
    "print(type(arr))\n",
    "print(arr.ndim)"
   ]
  },
  {
   "cell_type": "markdown",
   "id": "5c07cfd8-d275-41fa-8741-e67cd8624bc6",
   "metadata": {},
   "source": [
    "## One Dimension"
   ]
  },
  {
   "cell_type": "code",
   "execution_count": 5,
   "id": "558dd638-53ec-4327-a41b-56e90604a121",
   "metadata": {},
   "outputs": [
    {
     "name": "stdout",
     "output_type": "stream",
     "text": [
      "[1 2 3 4 5]\n",
      "<class 'numpy.ndarray'>\n",
      "1\n"
     ]
    }
   ],
   "source": [
    "import numpy as np\n",
    "arr=np.array([1,2,3,4,5])\n",
    "print(arr)\n",
    "print(type(arr))\n",
    "print(arr.ndim)"
   ]
  },
  {
   "cell_type": "markdown",
   "id": "2b6b9279-3ce7-4782-be3e-4058f2a87384",
   "metadata": {},
   "source": [
    "## Two Dimension"
   ]
  },
  {
   "cell_type": "code",
   "execution_count": 7,
   "id": "541df64c-a46b-42d0-919d-84db64ccfb70",
   "metadata": {},
   "outputs": [
    {
     "name": "stdout",
     "output_type": "stream",
     "text": [
      "[[ 1  2  3  4  5  6]\n",
      " [ 7  8  9 10 11 12]]\n",
      "<class 'numpy.ndarray'>\n",
      "2\n"
     ]
    }
   ],
   "source": [
    "import numpy as np\n",
    "arr=np.array([[1,2,3,4,5,6],[7,8,9,10,11,12]])\n",
    "print(arr)\n",
    "print(type(arr))\n",
    "print(arr.ndim)"
   ]
  },
  {
   "cell_type": "markdown",
   "id": "e59f7741-7391-498f-baf5-11a0095f7c47",
   "metadata": {},
   "source": [
    "## Three Dimension"
   ]
  },
  {
   "cell_type": "code",
   "execution_count": 9,
   "id": "baac011e-0c7e-452a-9c4c-9ca25ae10432",
   "metadata": {},
   "outputs": [
    {
     "name": "stdout",
     "output_type": "stream",
     "text": [
      "[[[ 1  2  3]\n",
      "  [ 5  6  7]]\n",
      "\n",
      " [[ 8  9 10]\n",
      "  [ 3  4  5]]]\n",
      "<class 'numpy.ndarray'>\n",
      "3\n"
     ]
    }
   ],
   "source": [
    "import numpy as np\n",
    "arr=np.array([[[1,2,3],[5,6,7]],[[8,9,10],[3,4,5]]])\n",
    "print(arr)\n",
    "print(type(arr))\n",
    "print(arr.ndim)"
   ]
  },
  {
   "cell_type": "markdown",
   "id": "3598817e-7d88-44fd-a8f9-24fd48a80dd3",
   "metadata": {},
   "source": [
    "## Indexing (one dim,two dim,three dim)"
   ]
  },
  {
   "cell_type": "code",
   "execution_count": 11,
   "id": "07f2d1a9-1408-4578-b725-4b1338a322e2",
   "metadata": {},
   "outputs": [
    {
     "name": "stdout",
     "output_type": "stream",
     "text": [
      "2\n"
     ]
    }
   ],
   "source": [
    "import numpy as np\n",
    "arr=np.array([1,2,3,4,5])\n",
    "print(arr[1])"
   ]
  },
  {
   "cell_type": "code",
   "execution_count": 12,
   "id": "d82fc6bc-d153-4e84-aaea-13565b66e8a8",
   "metadata": {},
   "outputs": [
    {
     "name": "stdout",
     "output_type": "stream",
     "text": [
      "4\n"
     ]
    }
   ],
   "source": [
    "import numpy as np\n",
    "arr=np.array([[1,2,3,4,5],[6,7,8,9,10]])\n",
    "print(arr[0,3])"
   ]
  },
  {
   "cell_type": "code",
   "execution_count": 13,
   "id": "57906684-576f-4c4c-b8b9-6a26212fedcc",
   "metadata": {},
   "outputs": [
    {
     "name": "stdout",
     "output_type": "stream",
     "text": [
      "5\n",
      "6\n"
     ]
    }
   ],
   "source": [
    "import numpy as np\n",
    "arr=np.array([[[1,2,3],[5,6,7]],[[8,9,10],[3,4,5]]])\n",
    "print(arr[1,1,2])\n",
    "print(arr[0,1,1])"
   ]
  },
  {
   "cell_type": "code",
   "execution_count": null,
   "id": "5e8722fc-b06b-46af-9226-70806dd79af6",
   "metadata": {},
   "outputs": [],
   "source": []
  },
  {
   "cell_type": "markdown",
   "id": "16327051-86a2-4a7c-a713-387022b3d1a5",
   "metadata": {},
   "source": [
    "# Slicing"
   ]
  },
  {
   "cell_type": "markdown",
   "id": "06ec6303-334f-460f-9fe2-2f02b174a30e",
   "metadata": {},
   "source": [
    "### One dim"
   ]
  },
  {
   "cell_type": "code",
   "execution_count": 16,
   "id": "c954fc03-a2c8-48c7-a9d5-85bf8204030a",
   "metadata": {},
   "outputs": [
    {
     "name": "stdout",
     "output_type": "stream",
     "text": [
      "[2 3 4 5]\n"
     ]
    }
   ],
   "source": [
    "import numpy as np\n",
    "arr = np.array([1, 2, 3, 4, 5, 6, 7])\n",
    "print(arr[1:5])"
   ]
  },
  {
   "cell_type": "markdown",
   "id": "95654b5c-c180-409a-9c3e-17dc7f31e4c5",
   "metadata": {},
   "source": [
    "### Two dim"
   ]
  },
  {
   "cell_type": "code",
   "execution_count": 18,
   "id": "dd4fb0bd-bc06-445a-ae06-317dfd1ab7a6",
   "metadata": {},
   "outputs": [
    {
     "name": "stdout",
     "output_type": "stream",
     "text": [
      "[7 8 9]\n",
      "[[2 3 4]\n",
      " [7 8 9]]\n"
     ]
    }
   ],
   "source": [
    "import numpy as np\n",
    "arr=np.array([[1,2,3,4,5],[6,7,8,9,10]])\n",
    "print(arr[1,1:4])\n",
    "print(arr[0:2,1:4])"
   ]
  },
  {
   "cell_type": "code",
   "execution_count": null,
   "id": "82550884-6e64-45da-ac3d-8ec1cb043076",
   "metadata": {},
   "outputs": [],
   "source": []
  },
  {
   "cell_type": "markdown",
   "id": "5392882f-d63f-454d-a4e2-2b6012cddd11",
   "metadata": {},
   "source": [
    "## Datatypes"
   ]
  },
  {
   "cell_type": "code",
   "execution_count": 20,
   "id": "86cbbb08-9b3e-4cd5-9e80-f2d45267a0db",
   "metadata": {},
   "outputs": [
    {
     "name": "stdout",
     "output_type": "stream",
     "text": [
      "int32\n"
     ]
    }
   ],
   "source": [
    "import numpy as np\n",
    "arr=np.array([1,2,3,4])\n",
    "print(arr.dtype)"
   ]
  },
  {
   "cell_type": "code",
   "execution_count": 21,
   "id": "47c70bf6-192c-49fd-bab7-a6ec15710b26",
   "metadata": {},
   "outputs": [
    {
     "name": "stdout",
     "output_type": "stream",
     "text": [
      "<U6\n"
     ]
    }
   ],
   "source": [
    "import numpy as np\n",
    "arr=np.array(['Apple','Banana','Orange'])\n",
    "print(arr.dtype)"
   ]
  },
  {
   "cell_type": "code",
   "execution_count": 22,
   "id": "e16d6bc8-ca99-4527-8520-2b29d06ebbf8",
   "metadata": {
    "scrolled": true
   },
   "outputs": [
    {
     "name": "stdout",
     "output_type": "stream",
     "text": [
      "[b'1' b'2' b'3' b'4']\n",
      "|S1\n"
     ]
    }
   ],
   "source": [
    "import numpy as np\n",
    "arr=np.array([1,2,3,4],dtype='S')\n",
    "print(arr)\n",
    "print(arr.dtype)"
   ]
  },
  {
   "cell_type": "code",
   "execution_count": null,
   "id": "72a4b83a-92a2-48ef-a462-8bc66b8f6b58",
   "metadata": {},
   "outputs": [],
   "source": []
  },
  {
   "cell_type": "markdown",
   "id": "57ef8f32-e814-437d-b57b-cef12667fd39",
   "metadata": {},
   "source": [
    "# Coverting datatype into existing arguments"
   ]
  },
  {
   "cell_type": "code",
   "execution_count": 24,
   "id": "38315c35-105b-4fc3-bbbd-6b11eb514ede",
   "metadata": {},
   "outputs": [
    {
     "name": "stdout",
     "output_type": "stream",
     "text": [
      "[1 2 3]\n",
      "int32\n"
     ]
    }
   ],
   "source": [
    "import numpy as np\n",
    "arr=np.array([1.1,2.1,3.1])\n",
    "newarr=arr.astype('i')\n",
    "print(newarr)\n",
    "print(newarr.dtype)"
   ]
  },
  {
   "cell_type": "code",
   "execution_count": null,
   "id": "09c19912-d9b7-493f-aaff-6b54e2fb5013",
   "metadata": {},
   "outputs": [],
   "source": []
  },
  {
   "cell_type": "markdown",
   "id": "ac0b14e7-416f-4af0-aa4b-f64f5766d153",
   "metadata": {},
   "source": [
    "## Copy and View"
   ]
  },
  {
   "cell_type": "code",
   "execution_count": 26,
   "id": "c9f526ac-b5c8-4e7a-8935-d27117a68010",
   "metadata": {},
   "outputs": [
    {
     "name": "stdout",
     "output_type": "stream",
     "text": [
      "[32  2  3  4  5]\n",
      "[1 2 3 4 5]\n"
     ]
    }
   ],
   "source": [
    "import numpy as np\n",
    "arr=np.array([1,2,3,4,5])\n",
    "x=arr.copy()\n",
    "arr[0]=32\n",
    "print(arr)\n",
    "print(x)"
   ]
  },
  {
   "cell_type": "code",
   "execution_count": 27,
   "id": "51aacc5c-81d2-44b2-8398-1ada29494cf5",
   "metadata": {},
   "outputs": [
    {
     "name": "stdout",
     "output_type": "stream",
     "text": [
      "[22  2  3  4  5]\n",
      "[22  2  3  4  5]\n"
     ]
    }
   ],
   "source": [
    "import numpy as np\n",
    "arr=np.array([1,2,3,4,5])\n",
    "x=arr.view()\n",
    "arr[0]=22\n",
    "print(arr)\n",
    "print(x)"
   ]
  },
  {
   "cell_type": "markdown",
   "id": "41eb1322-d805-4bcd-9ff2-17607032da9f",
   "metadata": {},
   "source": [
    "## Shape"
   ]
  },
  {
   "cell_type": "code",
   "execution_count": 29,
   "id": "d48f2bce-a5d3-4684-897d-59e41245f61b",
   "metadata": {},
   "outputs": [
    {
     "name": "stdout",
     "output_type": "stream",
     "text": [
      "(2, 4)\n"
     ]
    }
   ],
   "source": [
    "import numpy as np\n",
    "arr=np.array([[1,2,3,4],[5,6,7,8]])\n",
    "x=arr.shape\n",
    "print(x)"
   ]
  },
  {
   "cell_type": "code",
   "execution_count": 30,
   "id": "3a4d645b-edc3-41b4-a733-7f6143fb65a6",
   "metadata": {},
   "outputs": [
    {
     "name": "stdout",
     "output_type": "stream",
     "text": [
      "(2, 5)\n"
     ]
    }
   ],
   "source": [
    "import numpy as np\n",
    "arr=np.array([[1,2,3,4,5],[5,6,7,8,5]])\n",
    "x=arr.shape\n",
    "print(x)"
   ]
  },
  {
   "cell_type": "code",
   "execution_count": 31,
   "id": "542fd9b4-a5c6-41af-ba03-dc0235519e73",
   "metadata": {},
   "outputs": [
    {
     "name": "stdout",
     "output_type": "stream",
     "text": [
      "(2, 2, 4)\n"
     ]
    }
   ],
   "source": [
    "import numpy as np\n",
    "arr=np.array([[[1,2,3,4],[5,6,7,8]],[[2,5,7,8],[9,8,2,1]]])\n",
    "x=arr.shape\n",
    "print(x)"
   ]
  },
  {
   "cell_type": "code",
   "execution_count": null,
   "id": "c5b2e7a6-194c-4537-ab82-905db055d7b4",
   "metadata": {},
   "outputs": [],
   "source": []
  },
  {
   "cell_type": "markdown",
   "id": "6c3957af-37cb-45aa-b718-516209451a71",
   "metadata": {},
   "source": [
    "## Reshaping Arrays"
   ]
  },
  {
   "cell_type": "markdown",
   "id": "d7702996-6e68-4d40-abe5-feae4111f8e3",
   "metadata": {},
   "source": [
    "#### 1D to 2D"
   ]
  },
  {
   "cell_type": "code",
   "execution_count": 34,
   "id": "a9af5adb-f421-452f-ad20-7ad36fe5b69f",
   "metadata": {},
   "outputs": [
    {
     "name": "stdout",
     "output_type": "stream",
     "text": [
      "[[ 1  2  3]\n",
      " [ 4  5  6]\n",
      " [ 7  8  9]\n",
      " [10 11 12]]\n"
     ]
    }
   ],
   "source": [
    "import numpy as np\n",
    "arr=np.array([1,2,3,4,5,6,7,8,9,10,11,12])\n",
    "newarr=arr.reshape(4,3)\n",
    "print(newarr)"
   ]
  },
  {
   "cell_type": "code",
   "execution_count": 35,
   "id": "1cdef1f1-06be-45c4-80e1-46fb1cf581ed",
   "metadata": {},
   "outputs": [
    {
     "name": "stdout",
     "output_type": "stream",
     "text": [
      "[[1 2 3 4]\n",
      " [5 6 7 8]]\n"
     ]
    }
   ],
   "source": [
    "import numpy as np\n",
    "arr=np.array([1,2,3,4,5,6,7,8])\n",
    "newarr=arr.reshape(2,4)\n",
    "print(newarr)"
   ]
  },
  {
   "cell_type": "markdown",
   "id": "42c84cab-15e0-46ac-bc4a-005786c5e021",
   "metadata": {},
   "source": [
    "### 1D to 3D"
   ]
  },
  {
   "cell_type": "code",
   "execution_count": 37,
   "id": "b4c5727b-840f-4434-b54c-14f635571a7f",
   "metadata": {},
   "outputs": [
    {
     "name": "stdout",
     "output_type": "stream",
     "text": [
      "[[[ 1  2]\n",
      "  [ 3  4]\n",
      "  [ 5  6]]\n",
      "\n",
      " [[ 7  8]\n",
      "  [ 9 10]\n",
      "  [11 12]]]\n"
     ]
    }
   ],
   "source": [
    "import numpy as np\n",
    "arr=np.array([1,2,3,4,5,6,7,8,9,10,11,12])\n",
    "newarr=arr.reshape(2,3,2)\n",
    "print(newarr)"
   ]
  },
  {
   "cell_type": "code",
   "execution_count": null,
   "id": "8d3c0816-1e17-4365-a4fd-25cd7de8e23c",
   "metadata": {},
   "outputs": [],
   "source": []
  },
  {
   "cell_type": "markdown",
   "id": "8f9a0966-6b6a-444f-810d-0557d66e59da",
   "metadata": {},
   "source": [
    "## Iteration"
   ]
  },
  {
   "cell_type": "code",
   "execution_count": 39,
   "id": "7f66192a-272a-48b0-90d0-fce0677f74bf",
   "metadata": {},
   "outputs": [
    {
     "name": "stdout",
     "output_type": "stream",
     "text": [
      "1\n",
      "2\n",
      "3\n",
      "4\n",
      "5\n",
      "6\n"
     ]
    }
   ],
   "source": [
    "import numpy as np\n",
    "arr=np.array([1,2,3,4,5,6])\n",
    "for x in arr:\n",
    "    print(x)"
   ]
  },
  {
   "cell_type": "code",
   "execution_count": 40,
   "id": "e3ac2c1f-c888-48a5-b006-5ddebcfc56ba",
   "metadata": {},
   "outputs": [
    {
     "name": "stdout",
     "output_type": "stream",
     "text": [
      "1\n",
      "2\n",
      "3\n",
      "4\n",
      "5\n",
      "6\n"
     ]
    }
   ],
   "source": [
    "import numpy as np\n",
    "arr=np.array([[1,2,3],[4,5,6]])\n",
    "for x in arr:\n",
    "    for y in x:\n",
    "        print(y)"
   ]
  },
  {
   "cell_type": "code",
   "execution_count": 41,
   "id": "90f72b77-2783-4ff7-8201-233962c15846",
   "metadata": {},
   "outputs": [
    {
     "name": "stdout",
     "output_type": "stream",
     "text": [
      "1\n",
      "2\n",
      "3\n",
      "4\n",
      "5\n",
      "6\n",
      "7\n",
      "8\n",
      "2\n",
      "5\n",
      "7\n",
      "8\n",
      "9\n",
      "8\n",
      "2\n",
      "1\n"
     ]
    }
   ],
   "source": [
    "import numpy as np\n",
    "arr=np.array([[[1,2,3,4],[5,6,7,8]],[[2,5,7,8],[9,8,2,1]]])\n",
    "for x in arr:\n",
    "    for y in x:\n",
    "        for z in y:\n",
    "            print(z)"
   ]
  },
  {
   "cell_type": "code",
   "execution_count": 42,
   "id": "efe5fd7f-0457-4e53-821d-098fb8a8b09a",
   "metadata": {},
   "outputs": [
    {
     "name": "stdout",
     "output_type": "stream",
     "text": [
      "1\n",
      "2\n",
      "3\n",
      "4\n",
      "5\n",
      "6\n",
      "7\n",
      "8\n",
      "2\n",
      "5\n",
      "7\n",
      "8\n",
      "9\n",
      "8\n",
      "2\n",
      "1\n"
     ]
    }
   ],
   "source": [
    "import numpy as np\n",
    "arr=np.array([[[1,2,3,4],[5,6,7,8]],[[2,5,7,8],[9,8,2,1]]])\n",
    "for x in np.nditer(arr):\n",
    "    print(x)\n"
   ]
  },
  {
   "cell_type": "markdown",
   "id": "5c59a8f4-bb79-4523-8dcd-8a3443b7cae9",
   "metadata": {},
   "source": [
    "## Joining"
   ]
  },
  {
   "cell_type": "code",
   "execution_count": 44,
   "id": "f0c5b264-bbc2-4c38-9933-1eb89e6097ea",
   "metadata": {},
   "outputs": [
    {
     "name": "stdout",
     "output_type": "stream",
     "text": [
      "[ 1  2  3  4 10 12 14  8]\n"
     ]
    }
   ],
   "source": [
    "import numpy as np\n",
    "arr1=np.array([1,2,3,4])\n",
    "arr2=np.array([10,12,14,8])\n",
    "arr=np.concatenate((arr1,arr2))\n",
    "print(arr)"
   ]
  },
  {
   "cell_type": "code",
   "execution_count": null,
   "id": "a5474f6d-deb7-488b-8f30-f53ad85b3bc9",
   "metadata": {},
   "outputs": [],
   "source": []
  },
  {
   "cell_type": "markdown",
   "id": "675d7d34-3236-4a26-a61a-87ed56247849",
   "metadata": {},
   "source": [
    "## Stacking"
   ]
  },
  {
   "cell_type": "code",
   "execution_count": 46,
   "id": "eb267a4f-d7f1-4960-96d3-6531db32ad55",
   "metadata": {},
   "outputs": [
    {
     "name": "stdout",
     "output_type": "stream",
     "text": [
      "[[ 1 10]\n",
      " [ 2 12]\n",
      " [ 3 14]\n",
      " [ 4  8]]\n"
     ]
    }
   ],
   "source": [
    "import numpy as np\n",
    "arr1=np.array([1,2,3,4])\n",
    "arr2=np.array([10,12,14,8])\n",
    "arr=np.stack((arr1,arr2),axis=1)\n",
    "print(arr)"
   ]
  },
  {
   "cell_type": "code",
   "execution_count": 47,
   "id": "24905ee5-f7bc-4d91-894c-e66d7a5c91fc",
   "metadata": {},
   "outputs": [
    {
     "name": "stdout",
     "output_type": "stream",
     "text": [
      "[ 1  2  3  4 10 12 14  8]\n"
     ]
    }
   ],
   "source": [
    "import numpy as np\n",
    "arr1=np.array([1,2,3,4])\n",
    "arr2=np.array([10,12,14,8])\n",
    "arr=np.hstack((arr1,arr2))\n",
    "print(arr)"
   ]
  },
  {
   "cell_type": "code",
   "execution_count": 48,
   "id": "113b3254-6ad0-4a7d-8adf-75ed1d8e686f",
   "metadata": {},
   "outputs": [
    {
     "name": "stdout",
     "output_type": "stream",
     "text": [
      "[[ 1  2  3  4]\n",
      " [10 12 14  8]]\n"
     ]
    }
   ],
   "source": [
    "import numpy as np\n",
    "arr1=np.array([1,2,3,4])\n",
    "arr2=np.array([10,12,14,8])\n",
    "arr=np.vstack((arr1,arr2))\n",
    "print(arr)"
   ]
  },
  {
   "cell_type": "code",
   "execution_count": 49,
   "id": "1bbcb23d-8b4f-4a87-8661-a511386bb9de",
   "metadata": {},
   "outputs": [
    {
     "name": "stdout",
     "output_type": "stream",
     "text": [
      "[[[ 1 10]\n",
      "  [ 2 12]\n",
      "  [ 3 14]\n",
      "  [ 4  8]]]\n"
     ]
    }
   ],
   "source": [
    "import numpy as np\n",
    "arr1=np.array([1,2,3,4])\n",
    "arr2=np.array([10,12,14,8])\n",
    "arr=np.dstack((arr1,arr2))\n",
    "print(arr)"
   ]
  },
  {
   "cell_type": "code",
   "execution_count": null,
   "id": "d77ae5a6-2405-4487-b675-2a592740e9b2",
   "metadata": {},
   "outputs": [],
   "source": []
  },
  {
   "cell_type": "markdown",
   "id": "bd1ccb6b-f69b-4bb9-8047-6044f7a78aaf",
   "metadata": {
    "jp-MarkdownHeadingCollapsed": true
   },
   "source": [
    "## Splitting"
   ]
  },
  {
   "cell_type": "code",
   "execution_count": 51,
   "id": "13ef626a-797e-4718-a6fd-dda4aad797d8",
   "metadata": {},
   "outputs": [
    {
     "name": "stdout",
     "output_type": "stream",
     "text": [
      "[array([1, 2]), array([3, 4]), array([5, 6])]\n"
     ]
    }
   ],
   "source": [
    "import numpy as np\n",
    "arr=np.array([1,2,3,4,5,6])\n",
    "newarr=np.array_split(arr,3)\n",
    "print(newarr)"
   ]
  },
  {
   "cell_type": "code",
   "execution_count": 52,
   "id": "3dac95ef-63fd-4f1d-b913-71d4c0d3ebcf",
   "metadata": {},
   "outputs": [
    {
     "name": "stdout",
     "output_type": "stream",
     "text": [
      "[array([1, 2]), array([3, 4]), array([5]), array([6])]\n"
     ]
    }
   ],
   "source": [
    "import numpy as np\n",
    "arr=np.array([1,2,3,4,5,6])\n",
    "newarr=np.array_split(arr,4)\n",
    "print(newarr)"
   ]
  },
  {
   "cell_type": "code",
   "execution_count": 53,
   "id": "ec77735b-7cb5-4438-986a-8b4b2be5cf03",
   "metadata": {},
   "outputs": [
    {
     "name": "stdout",
     "output_type": "stream",
     "text": [
      "[1 2]\n",
      "[3 4]\n",
      "[5 6]\n"
     ]
    }
   ],
   "source": [
    "import numpy as np\n",
    "arr=np.array([1,2,3,4,5,6])\n",
    "newarr=np.array_split(arr,3)\n",
    "print(newarr[0])\n",
    "print(newarr[1])\n",
    "print(newarr[2])"
   ]
  },
  {
   "cell_type": "code",
   "execution_count": 54,
   "id": "0768407b-4858-41cd-8f26-a6916f4151f6",
   "metadata": {},
   "outputs": [
    {
     "name": "stdout",
     "output_type": "stream",
     "text": [
      "[array([[1, 2],\n",
      "       [3, 4]]), array([[5, 6],\n",
      "       [7, 8]]), array([[ 9, 10],\n",
      "       [11, 12]])]\n"
     ]
    }
   ],
   "source": [
    "import numpy as np\n",
    "arr=np.array([[1,2],[3,4],[5,6],[7,8],[9,10],[11,12]])\n",
    "newarr=np.array_split(arr,3)\n",
    "print(newarr)"
   ]
  },
  {
   "cell_type": "code",
   "execution_count": 55,
   "id": "7c22c5d6-4699-43bd-86ae-c147fa3233dd",
   "metadata": {},
   "outputs": [
    {
     "name": "stdout",
     "output_type": "stream",
     "text": [
      "[array([[ 1],\n",
      "       [ 3],\n",
      "       [ 5],\n",
      "       [ 7],\n",
      "       [ 9],\n",
      "       [11]]), array([[ 2],\n",
      "       [ 4],\n",
      "       [ 6],\n",
      "       [ 8],\n",
      "       [10],\n",
      "       [12]]), array([], shape=(6, 0), dtype=int32)]\n"
     ]
    }
   ],
   "source": [
    "import numpy as np\n",
    "arr=np.array([[1,2],[3,4],[5,6],[7,8],[9,10],[11,12]])\n",
    "newarr=np.array_split(arr,3,axis=1)\n",
    "print(newarr)"
   ]
  },
  {
   "cell_type": "code",
   "execution_count": 56,
   "id": "f5114999-0276-42a4-910e-eb34f8e44ede",
   "metadata": {},
   "outputs": [
    {
     "name": "stdout",
     "output_type": "stream",
     "text": [
      "[array([[ 1],\n",
      "       [ 4],\n",
      "       [ 7],\n",
      "       [10],\n",
      "       [13],\n",
      "       [16]]), array([[ 2],\n",
      "       [ 5],\n",
      "       [ 8],\n",
      "       [11],\n",
      "       [14],\n",
      "       [17]]), array([[ 3],\n",
      "       [ 6],\n",
      "       [ 9],\n",
      "       [12],\n",
      "       [15],\n",
      "       [18]])]\n"
     ]
    }
   ],
   "source": [
    "import numpy as np\n",
    "arr=np.array([[1,2,3],[4,5,6],[7,8,9],[10,11,12],[13,14,15],[16,17,18]])\n",
    "newarr=np.hsplit(arr,3)\n",
    "print(newarr)"
   ]
  },
  {
   "cell_type": "code",
   "execution_count": null,
   "id": "b1a70188-34bd-4dd9-9639-7e9e7c537b5d",
   "metadata": {},
   "outputs": [],
   "source": []
  },
  {
   "cell_type": "markdown",
   "id": "7a2eba39-2ef3-444b-9cb5-c7e61cb6bab3",
   "metadata": {},
   "source": [
    "## Sorting Arrays"
   ]
  },
  {
   "cell_type": "code",
   "execution_count": 58,
   "id": "60fb8449-ca10-4fa5-8b06-ad3847474fec",
   "metadata": {},
   "outputs": [
    {
     "name": "stdout",
     "output_type": "stream",
     "text": [
      "[0 1 2 3 5 5]\n"
     ]
    }
   ],
   "source": [
    "import numpy as np\n",
    "arr=np.array([3,2,5,1,0,5])\n",
    "print(np.sort(arr))"
   ]
  },
  {
   "cell_type": "code",
   "execution_count": 59,
   "id": "2e1784e0-c45c-4bb7-bbdb-d9f89d6ff263",
   "metadata": {},
   "outputs": [
    {
     "name": "stdout",
     "output_type": "stream",
     "text": [
      "['apple' 'banana' 'cherry']\n"
     ]
    }
   ],
   "source": [
    "import numpy as np\n",
    "arr=np.array(['banana','cherry','apple'])\n",
    "print(np.sort(arr))"
   ]
  },
  {
   "cell_type": "code",
   "execution_count": 60,
   "id": "cf3979f3-05d3-44f6-8428-7e37eba8c2d9",
   "metadata": {},
   "outputs": [
    {
     "name": "stdout",
     "output_type": "stream",
     "text": [
      "[[2 3 5]\n",
      " [0 1 5]]\n"
     ]
    }
   ],
   "source": [
    "import numpy as np\n",
    "arr=np.array([[3,2,5],[1,0,5]])\n",
    "print(np.sort(arr))"
   ]
  },
  {
   "cell_type": "code",
   "execution_count": null,
   "id": "36ee6064-3dee-4860-970a-e7227df91545",
   "metadata": {},
   "outputs": [],
   "source": []
  },
  {
   "cell_type": "markdown",
   "id": "b6d425b5-e86e-4968-a5f8-53b3b9beaeac",
   "metadata": {},
   "source": [
    "# Linear Algebra"
   ]
  },
  {
   "cell_type": "markdown",
   "id": "eda096eb-31d4-4089-be5b-a81e14867e09",
   "metadata": {},
   "source": [
    "### Dot product"
   ]
  },
  {
   "cell_type": "code",
   "execution_count": 63,
   "id": "7910d778-3990-45e6-bfe2-8699c7600e02",
   "metadata": {},
   "outputs": [
    {
     "name": "stdout",
     "output_type": "stream",
     "text": [
      "44\n"
     ]
    }
   ],
   "source": [
    "import numpy as np\n",
    "array1=np.array([1,3,5])\n",
    "array2=np.array([2,4,6])\n",
    "result=np.dot(array1,array2)\n",
    "print(result)"
   ]
  },
  {
   "cell_type": "code",
   "execution_count": 64,
   "id": "4f453b8b-a4c3-46ed-a3ff-60b4b9b419e0",
   "metadata": {},
   "outputs": [
    {
     "name": "stdout",
     "output_type": "stream",
     "text": [
      "146796\n"
     ]
    }
   ],
   "source": [
    "import numpy as np\n",
    "a=np.array([25,58,35])\n",
    "b=np.array([5,2212,525])\n",
    "x=np.dot(a,b)\n",
    "print(x)"
   ]
  },
  {
   "cell_type": "markdown",
   "id": "c344cf97-b3a7-4c27-930a-c336c0de4b50",
   "metadata": {},
   "source": [
    "### Inner product"
   ]
  },
  {
   "cell_type": "code",
   "execution_count": 66,
   "id": "fe01eb9f-f72e-4e50-9a8c-b91a225a1fac",
   "metadata": {},
   "outputs": [
    {
     "name": "stdout",
     "output_type": "stream",
     "text": [
      "[[14 30]\n",
      " [38 86]]\n"
     ]
    }
   ],
   "source": [
    "import numpy as np\n",
    "array1=np.array([[1,3],\n",
    "                [5,7]])\n",
    "array2=np.array([[2,4],\n",
    "               [6,8]])\n",
    "result=np.inner(array1,array2)\n",
    "print(result)"
   ]
  },
  {
   "cell_type": "markdown",
   "id": "ff0bb66f-baea-4c63-83df-f9403e216a41",
   "metadata": {},
   "source": [
    "### Outer Product"
   ]
  },
  {
   "cell_type": "code",
   "execution_count": 68,
   "id": "c624ce4f-a368-4de8-8ea0-c656053c1ce8",
   "metadata": {},
   "outputs": [
    {
     "name": "stdout",
     "output_type": "stream",
     "text": [
      "[[ 2  4  6]\n",
      " [ 6 12 18]\n",
      " [10 20 30]]\n"
     ]
    }
   ],
   "source": [
    "import numpy as np\n",
    "array1=np.array([1,3,5])\n",
    "array2=np.array([2,4,6])\n",
    "result=np.outer(array1,array2)\n",
    "print(result)"
   ]
  },
  {
   "cell_type": "markdown",
   "id": "9929d040-150f-4919-9d2b-880f42b33401",
   "metadata": {},
   "source": [
    "### Determinant"
   ]
  },
  {
   "cell_type": "code",
   "execution_count": 70,
   "id": "d70f013b-2b6c-411c-adaa-11a1ac3e4fc0",
   "metadata": {},
   "outputs": [
    {
     "name": "stdout",
     "output_type": "stream",
     "text": [
      "-7.999999999999998\n"
     ]
    }
   ],
   "source": [
    "import numpy as np\n",
    "arr=np.array([[1,3],\n",
    "             [5,7]])\n",
    "result=np.linalg.det(arr)\n",
    "print(result)"
   ]
  },
  {
   "cell_type": "markdown",
   "id": "2d8097fd-896e-4077-8cc3-1204bcc28317",
   "metadata": {},
   "source": [
    "### Linear eqn"
   ]
  },
  {
   "cell_type": "code",
   "execution_count": 72,
   "id": "7966cdf4-8abe-4e1b-af44-257093731294",
   "metadata": {},
   "outputs": [
    {
     "name": "stdout",
     "output_type": "stream",
     "text": [
      "[-2.    2.25]\n"
     ]
    }
   ],
   "source": [
    "import numpy as np\n",
    "A=np.array([[2,4],\n",
    "           [6,8]])\n",
    "B=np.array([5,6])\n",
    "x=np.linalg.solve(A,B)\n",
    "print(x)"
   ]
  },
  {
   "cell_type": "markdown",
   "id": "0cdd109a-2498-4c70-9beb-9da98e06ebef",
   "metadata": {},
   "source": [
    "### Inverse"
   ]
  },
  {
   "cell_type": "code",
   "execution_count": 74,
   "id": "c5564f1f-6d5c-4df8-b22a-04f6cc3ca26b",
   "metadata": {},
   "outputs": [
    {
     "name": "stdout",
     "output_type": "stream",
     "text": [
      "[[-1.    0.5 ]\n",
      " [ 0.75 -0.25]]\n"
     ]
    }
   ],
   "source": [
    "import numpy as np\n",
    "A=np.array([[2,4],\n",
    "           [6,8]])\n",
    "x=np.linalg.inv(A)\n",
    "print(x)"
   ]
  },
  {
   "cell_type": "code",
   "execution_count": null,
   "id": "0516d2cc-c755-464a-b55f-4b99ae7e73cb",
   "metadata": {},
   "outputs": [],
   "source": []
  },
  {
   "cell_type": "markdown",
   "id": "91d9c2f0-5a4c-4e60-9152-b104fb8dc719",
   "metadata": {},
   "source": [
    "## Statistical Measures"
   ]
  },
  {
   "cell_type": "code",
   "execution_count": 4,
   "id": "94b11954-0d19-40c5-b00a-14009920a5f4",
   "metadata": {},
   "outputs": [
    {
     "name": "stdout",
     "output_type": "stream",
     "text": [
      "Mean: 30.0\n"
     ]
    }
   ],
   "source": [
    "import numpy as np\n",
    "data=np.array([10,20,30,40,50])\n",
    "mean=np.mean(data)\n",
    "print(\"Mean:\",mean)"
   ]
  },
  {
   "cell_type": "code",
   "execution_count": 10,
   "id": "6d5f7fd8-37c7-458a-ba20-90138c4fde31",
   "metadata": {},
   "outputs": [
    {
     "name": "stdout",
     "output_type": "stream",
     "text": [
      "Median: 20.0\n"
     ]
    }
   ],
   "source": [
    "import numpy as np\n",
    "data=np.array([10,20,5,40,50])\n",
    "median=np.median(data)\n",
    "print(\"Median:\",median)"
   ]
  },
  {
   "cell_type": "code",
   "execution_count": 12,
   "id": "bae2ef12-12aa-415f-bc1e-7ab5c4757c92",
   "metadata": {},
   "outputs": [
    {
     "name": "stdout",
     "output_type": "stream",
     "text": [
      "Variance: 200.0\n"
     ]
    }
   ],
   "source": [
    "import numpy as np\n",
    "data=np.array([10,20,30,40,50])\n",
    "variance=np.var(data)\n",
    "print(\"Variance:\",variance)"
   ]
  },
  {
   "cell_type": "code",
   "execution_count": 14,
   "id": "a7388837-2956-474f-9235-e0bf616ec4bd",
   "metadata": {},
   "outputs": [
    {
     "name": "stdout",
     "output_type": "stream",
     "text": [
      "Standard deviation 14.142135623730951\n"
     ]
    }
   ],
   "source": [
    "import numpy as np\n",
    "data=np.array([10,20,30,40,50])\n",
    "std_dev=np.std(data)\n",
    "print(\"Standard deviation\",std_dev)"
   ]
  },
  {
   "cell_type": "markdown",
   "id": "8d65285f-6c88-4494-b4b1-768fea23935c",
   "metadata": {},
   "source": [
    "## Percentiles"
   ]
  },
  {
   "cell_type": "code",
   "execution_count": 17,
   "id": "bee0332d-c7c9-4d17-9fdd-7a6e474c538b",
   "metadata": {},
   "outputs": [
    {
     "name": "stdout",
     "output_type": "stream",
     "text": [
      "25th percentile(Q1) : 32.5\n"
     ]
    }
   ],
   "source": [
    "import numpy as np\n",
    "data=np.array([10,20,30,40,50,60,70,80,90,100])\n",
    "p25=np.percentile(data,25)\n",
    "print(\"25th percentile(Q1) :\",p25)"
   ]
  },
  {
   "cell_type": "code",
   "execution_count": 19,
   "id": "d02f0e3f-1c5c-48d6-ab85-e99b9085ce5a",
   "metadata": {},
   "outputs": [
    {
     "name": "stdout",
     "output_type": "stream",
     "text": [
      "50th percentile(median) : 55.0\n"
     ]
    }
   ],
   "source": [
    "import numpy as np\n",
    "data=np.array([10,20,30,40,50,60,70,80,90,100])\n",
    "p50=np.percentile(data,50)\n",
    "print(\"50th percentile(median) :\",p50)"
   ]
  },
  {
   "cell_type": "code",
   "execution_count": 21,
   "id": "6c9cb1cc-7421-443e-a9ad-19d4a15fb6a0",
   "metadata": {},
   "outputs": [
    {
     "name": "stdout",
     "output_type": "stream",
     "text": [
      "75th percentile(Q3) : 77.5\n"
     ]
    }
   ],
   "source": [
    "import numpy as np\n",
    "data=np.array([10,20,30,40,50,60,70,80,90,100])\n",
    "p75=np.percentile(data,75)\n",
    "print(\"75th percentile(Q3) :\",p75)"
   ]
  },
  {
   "cell_type": "markdown",
   "id": "a0263be3-da63-4a4a-9a4a-1962a68a36bf",
   "metadata": {},
   "source": [
    "## Interquartile Range"
   ]
  },
  {
   "cell_type": "code",
   "execution_count": 26,
   "id": "2f3a82eb-3283-44d3-9256-5f59c74f682d",
   "metadata": {},
   "outputs": [
    {
     "name": "stdout",
     "output_type": "stream",
     "text": [
      "Q1: 30.0\n",
      "Q3: 60.0\n",
      "IQR: 30.0\n"
     ]
    }
   ],
   "source": [
    "import numpy as np\n",
    "data=np.array([10,20,30,40,50,60,30,80,70,90,60,52,32])\n",
    "q1=np.percentile(data,25)\n",
    "q3=np.percentile(data,75)\n",
    "IQR=q3-q1\n",
    "print(\"Q1:\",q1)\n",
    "print(\"Q3:\",q3)\n",
    "print(\"IQR:\",IQR)"
   ]
  },
  {
   "cell_type": "code",
   "execution_count": null,
   "id": "f57ab621-9fde-4de7-8ceb-27f1156b9842",
   "metadata": {},
   "outputs": [],
   "source": []
  }
 ],
 "metadata": {
  "kernelspec": {
   "display_name": "Python [conda env:base] *",
   "language": "python",
   "name": "conda-base-py"
  },
  "language_info": {
   "codemirror_mode": {
    "name": "ipython",
    "version": 3
   },
   "file_extension": ".py",
   "mimetype": "text/x-python",
   "name": "python",
   "nbconvert_exporter": "python",
   "pygments_lexer": "ipython3",
   "version": "3.11.4"
  }
 },
 "nbformat": 4,
 "nbformat_minor": 5
}
